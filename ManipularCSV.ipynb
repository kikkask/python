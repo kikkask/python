{
  "nbformat": 4,
  "nbformat_minor": 0,
  "metadata": {
    "colab": {
      "provenance": [],
      "authorship_tag": "ABX9TyN982xerf5uRvcAuruAFfOc"
    },
    "kernelspec": {
      "name": "python3",
      "display_name": "Python 3"
    },
    "language_info": {
      "name": "python"
    }
  },
  "cells": [
    {
      "cell_type": "code",
      "execution_count": 1,
      "metadata": {
        "colab": {
          "base_uri": "https://localhost:8080/"
        },
        "id": "IFwDlZfxBw34",
        "outputId": "323cfce5-07cc-47fc-e747-87d62cf7c5dc"
      },
      "outputs": [
        {
          "output_type": "stream",
          "name": "stdout",
          "text": [
            "Writing banco.csv\n"
          ]
        }
      ],
      "source": [
        "%%writefile banco.csv\n",
        "age,job,marital,education,default,balance,housing,loan\n",
        "30,unemployed,married,primary,no,1787,no,no\n",
        "33,services,married,secondary,no,4789,yes,yes\n",
        "35,management,single,tertiary,no,1350,yes,no\n",
        "30,management,married,tertiary,no,1476,yes,yes\n",
        "59,blue-collar,married,secondary,no,0,yes,no\n",
        "35,management,single,tertiary,no,747,no,no\n",
        "36,self-employed,married,tertiary,no,307,yes,no\n",
        "39,technician,married,secondary,no,147,yes,no\n",
        "41,entrepreneur,married,tertiary,no,221,yes,no\n",
        "43,services,married,primary,no,-88,yes,yes"
      ]
    },
    {
      "cell_type": "code",
      "source": [
        "# Extrair os valores da coluna idade\n",
        "idades = []\n",
        "\n",
        "with open(file='./banco.csv', mode='r', encoding='utf8') as arquivo:\n",
        "  cabecalho = arquivo.readline().split(sep=',')\n",
        "  indice_idade = cabecalho.index('age')\n",
        "  linha = arquivo.readline()\n",
        "  while linha:\n",
        "    idade = linha.split(sep=',')[indice_idade]\n",
        "    idades.append(idade)\n",
        "    linha = arquivo.readline()\n",
        "\n",
        "print(idades)"
      ],
      "metadata": {
        "colab": {
          "base_uri": "https://localhost:8080/"
        },
        "id": "1paET5oVu-Mg",
        "outputId": "30facfcb-b894-4c41-885b-c1f2c82cd442"
      },
      "execution_count": 2,
      "outputs": [
        {
          "output_type": "stream",
          "name": "stdout",
          "text": [
            "['30', '33', '35', '30', '59', '35', '36', '39', '41', '43']\n"
          ]
        }
      ]
    },
    {
      "cell_type": "code",
      "source": [
        "# Calcular a média das idades\n",
        "from functools import reduce\n",
        "\n",
        "soma_idades = reduce(lambda idade_a, idade_b: idade_a + idade_b, map(lambda idade: int(idade), idades))\n",
        "qtd_idades = len(idades)\n",
        "\n",
        "media_idades = soma_idades / qtd_idades\n",
        "print(f\"A média das idades é de {media_idades}.\")"
      ],
      "metadata": {
        "colab": {
          "base_uri": "https://localhost:8080/"
        },
        "id": "660BXahQvBom",
        "outputId": "9e7b6e12-e7e7-4636-80fb-aeda7d10e56b"
      },
      "execution_count": 3,
      "outputs": [
        {
          "output_type": "stream",
          "name": "stdout",
          "text": [
            "A média das idades é de 38.1.\n"
          ]
        }
      ]
    }
  ]
}