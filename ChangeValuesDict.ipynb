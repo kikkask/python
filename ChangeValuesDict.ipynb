{
  "nbformat": 4,
  "nbformat_minor": 0,
  "metadata": {
    "colab": {
      "provenance": [],
      "authorship_tag": "ABX9TyOal21GAhqs+ikIpg1xELAn"
    },
    "kernelspec": {
      "name": "python3",
      "display_name": "Python 3"
    },
    "language_info": {
      "name": "python"
    }
  },
  "cells": [
    {
      "cell_type": "code",
      "execution_count": 1,
      "metadata": {
        "id": "p-fTTCT2UBnc"
      },
      "outputs": [],
      "source": [
        "dic1 = {1:10, 2:20}\n",
        "dic2 = {3:30, 4:40}"
      ]
    },
    {
      "cell_type": "code",
      "source": [
        "# função para trocar valores entre dois dicionários\n",
        "def changeValues(dic1, dic2):\n",
        "  dicTemp = {}\n",
        "  for dic1key, dic2val in zip(dic1, dic2.values()):\n",
        "    dicTemp[dic1key] = dic2val\n",
        "  return dicTemp"
      ],
      "metadata": {
        "id": "4H-D2lgqXF4_"
      },
      "execution_count": 2,
      "outputs": []
    },
    {
      "cell_type": "code",
      "source": [
        "changeValues(dic1, dic2)"
      ],
      "metadata": {
        "colab": {
          "base_uri": "https://localhost:8080/"
        },
        "id": "EzemKqLFXiKo",
        "outputId": "1fad81be-659f-4ad9-e401-594c5a0a2cd4"
      },
      "execution_count": 3,
      "outputs": [
        {
          "output_type": "execute_result",
          "data": {
            "text/plain": [
              "{1: 30, 2: 40}"
            ]
          },
          "metadata": {},
          "execution_count": 3
        }
      ]
    }
  ]
}