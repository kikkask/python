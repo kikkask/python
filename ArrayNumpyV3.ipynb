{
  "nbformat": 4,
  "nbformat_minor": 0,
  "metadata": {
    "colab": {
      "provenance": [],
      "authorship_tag": "ABX9TyMTDeVh38n1Ysq2zqjBmsfb"
    },
    "kernelspec": {
      "name": "python3",
      "display_name": "Python 3"
    },
    "language_info": {
      "name": "python"
    }
  },
  "cells": [
    {
      "cell_type": "code",
      "execution_count": 1,
      "metadata": {
        "id": "xdKHKDul3kui"
      },
      "outputs": [],
      "source": [
        "import numpy as np"
      ]
    },
    {
      "cell_type": "code",
      "source": [
        "# creating the base lists\n",
        "list1 = []"
      ],
      "metadata": {
        "id": "kFV1m6jLgLxS"
      },
      "execution_count": 2,
      "outputs": []
    },
    {
      "cell_type": "code",
      "source": [
        "# user creates list1\n",
        "for i in range(4):\n",
        "  list1.append(int(input(\"Digite um número para a primeira matriz: \")))\n"
      ],
      "metadata": {
        "colab": {
          "base_uri": "https://localhost:8080/"
        },
        "id": "-CALne0fgq9K",
        "outputId": "7e13b4b8-51b4-460d-cc06-439c8fe61002"
      },
      "execution_count": 3,
      "outputs": [
        {
          "name": "stdout",
          "output_type": "stream",
          "text": [
            "Digite um número para a primeira matriz: 6\n",
            "Digite um número para a primeira matriz: 2\n",
            "Digite um número para a primeira matriz: 1\n",
            "Digite um número para a primeira matriz: 0\n"
          ]
        }
      ]
    },
    {
      "cell_type": "code",
      "source": [
        "# generating list2\n",
        "list2 = list(map(lambda n: n + 1, list1))\n",
        "print(list2)"
      ],
      "metadata": {
        "colab": {
          "base_uri": "https://localhost:8080/"
        },
        "id": "8yFXrmBxif0L",
        "outputId": "fe1b491e-4559-4cb1-9c1a-a4cecfa85ade"
      },
      "execution_count": 4,
      "outputs": [
        {
          "output_type": "stream",
          "name": "stdout",
          "text": [
            "[7, 3, 2, 1]\n"
          ]
        }
      ]
    },
    {
      "cell_type": "code",
      "source": [
        "# manipulating the lists and create an array numpy of 4 dimensions with funcions\n",
        "arr_4d = np.array([\n",
        "    [\n",
        "        [\n",
        "            list((map(lambda n: n * 1, list1))),\n",
        "            list((map(lambda n: n * 2, list1))),\n",
        "            list((map(lambda n: n * 3, list1))),\n",
        "            list((map(lambda n: n * 4, list1)))\n",
        "        ],\n",
        "        [\n",
        "            list((map(lambda n: n + 2, list1))),\n",
        "            list((map(lambda n: n + 4, list1))),\n",
        "            list((map(lambda n: n + 6, list1))),\n",
        "            list((map(lambda n: n + 8, list1)))\n",
        "        ]\n",
        "    ],\n",
        "    [\n",
        "        [\n",
        "            list((map(lambda n: n * 1, list2))),\n",
        "            list((map(lambda n: n * 5, list2))),\n",
        "            list((map(lambda n: n * 10, list2))),\n",
        "            list((map(lambda n: n * 15, list2)))\n",
        "        ],\n",
        "        [\n",
        "            list((map(lambda n: n + 10, list2))),\n",
        "            list((map(lambda n: n + 12, list2))),\n",
        "            list((map(lambda n: n + 14, list2))),\n",
        "            list((map(lambda n: n + 16, list2)))\n",
        "        ]\n",
        "    ]\n",
        "])"
      ],
      "metadata": {
        "id": "wn5FISkV3rkg"
      },
      "execution_count": 5,
      "outputs": []
    },
    {
      "cell_type": "code",
      "source": [
        "print(arr_4d)"
      ],
      "metadata": {
        "colab": {
          "base_uri": "https://localhost:8080/"
        },
        "id": "xiKDaKfpDruD",
        "outputId": "c5229316-d504-4196-950a-0132deec4c46"
      },
      "execution_count": 6,
      "outputs": [
        {
          "output_type": "stream",
          "name": "stdout",
          "text": [
            "[[[[  6   2   1   0]\n",
            "   [ 12   4   2   0]\n",
            "   [ 18   6   3   0]\n",
            "   [ 24   8   4   0]]\n",
            "\n",
            "  [[  8   4   3   2]\n",
            "   [ 10   6   5   4]\n",
            "   [ 12   8   7   6]\n",
            "   [ 14  10   9   8]]]\n",
            "\n",
            "\n",
            " [[[  7   3   2   1]\n",
            "   [ 35  15  10   5]\n",
            "   [ 70  30  20  10]\n",
            "   [105  45  30  15]]\n",
            "\n",
            "  [[ 17  13  12  11]\n",
            "   [ 19  15  14  13]\n",
            "   [ 21  17  16  15]\n",
            "   [ 23  19  18  17]]]]\n"
          ]
        }
      ]
    }
  ]
}