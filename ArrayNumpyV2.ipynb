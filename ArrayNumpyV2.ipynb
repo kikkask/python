{
  "nbformat": 4,
  "nbformat_minor": 0,
  "metadata": {
    "colab": {
      "provenance": [],
      "authorship_tag": "ABX9TyPNhNTJYN3ru4/SzyazdEMG"
    },
    "kernelspec": {
      "name": "python3",
      "display_name": "Python 3"
    },
    "language_info": {
      "name": "python"
    }
  },
  "cells": [
    {
      "cell_type": "code",
      "execution_count": 1,
      "metadata": {
        "id": "Q-4QhDFsANHL"
      },
      "outputs": [],
      "source": [
        "import numpy as np"
      ]
    },
    {
      "cell_type": "code",
      "source": [
        "# creating the base lists\n",
        "mut3 = [0,3,6,9]\n",
        "mut4 = [0,4,8,12]\n",
        "\n",
        "# manipulating the lists and create an array numpy of 4 dimensions with funcions\n",
        "arr_4d = np.array([\n",
        "    [\n",
        "        [\n",
        "            list((map(lambda n: n * 1, mut3))),\n",
        "            list((map(lambda n: n * 2, mut3))),\n",
        "            list((map(lambda n: n * 3, mut3))),\n",
        "            list((map(lambda n: n * 4, mut3)))\n",
        "        ],\n",
        "        [\n",
        "            list((map(lambda n: n +1, mut3))),\n",
        "            list((map(lambda n: n +2, mut3))),\n",
        "            list((map(lambda n: n +3, mut3))),\n",
        "            list((map(lambda n: n +4, mut3)))\n",
        "        ]\n",
        "    ],\n",
        "    [\n",
        "        [\n",
        "            list((map(lambda n: n * 1, mut4))),\n",
        "            list((map(lambda n: n * 2, mut4))),\n",
        "            list((map(lambda n: n * 3, mut4))),\n",
        "            list((map(lambda n: n * 4, mut4)))\n",
        "        ],\n",
        "        [\n",
        "            list((map(lambda n: n +1, mut4))),\n",
        "            list((map(lambda n: n +2, mut4))),\n",
        "            list((map(lambda n: n +3, mut4))),\n",
        "            list((map(lambda n: n +4, mut4)))\n",
        "        ]\n",
        "    ]\n",
        "])"
      ],
      "metadata": {
        "id": "xTxZKd8WvLY8"
      },
      "execution_count": 39,
      "outputs": []
    },
    {
      "cell_type": "code",
      "source": [
        "arr_4d.shape"
      ],
      "metadata": {
        "colab": {
          "base_uri": "https://localhost:8080/"
        },
        "id": "wDCzZN_yzhaU",
        "outputId": "d939b6a5-739d-4853-d182-e658ed9213fe"
      },
      "execution_count": 40,
      "outputs": [
        {
          "output_type": "execute_result",
          "data": {
            "text/plain": [
              "(2, 2, 4, 4)"
            ]
          },
          "metadata": {},
          "execution_count": 40
        }
      ]
    },
    {
      "cell_type": "code",
      "source": [
        "arr_4d.ndim"
      ],
      "metadata": {
        "colab": {
          "base_uri": "https://localhost:8080/"
        },
        "id": "H1j0E4cx17Wj",
        "outputId": "43618f65-fb89-4f93-e043-b00607fed8f1"
      },
      "execution_count": 41,
      "outputs": [
        {
          "output_type": "execute_result",
          "data": {
            "text/plain": [
              "4"
            ]
          },
          "metadata": {},
          "execution_count": 41
        }
      ]
    },
    {
      "cell_type": "code",
      "source": [
        "print(arr_4d)"
      ],
      "metadata": {
        "colab": {
          "base_uri": "https://localhost:8080/"
        },
        "id": "H3Qsw53L0Vs8",
        "outputId": "e58dc954-9420-4c60-b506-27af6a504214"
      },
      "execution_count": 42,
      "outputs": [
        {
          "output_type": "stream",
          "name": "stdout",
          "text": [
            "[[[[ 0  3  6  9]\n",
            "   [ 0  6 12 18]\n",
            "   [ 0  9 18 27]\n",
            "   [ 0 12 24 36]]\n",
            "\n",
            "  [[ 1  4  7 10]\n",
            "   [ 2  5  8 11]\n",
            "   [ 3  6  9 12]\n",
            "   [ 4  7 10 13]]]\n",
            "\n",
            "\n",
            " [[[ 0  4  8 12]\n",
            "   [ 0  8 16 24]\n",
            "   [ 0 12 24 36]\n",
            "   [ 0 16 32 48]]\n",
            "\n",
            "  [[ 1  5  9 13]\n",
            "   [ 2  6 10 14]\n",
            "   [ 3  7 11 15]\n",
            "   [ 4  8 12 16]]]]\n"
          ]
        }
      ]
    },
    {
      "cell_type": "code",
      "source": [
        "arr_4d[0,1,3,3] + arr_4d[1,1,3,3]"
      ],
      "metadata": {
        "colab": {
          "base_uri": "https://localhost:8080/"
        },
        "id": "SoOem4YU2Rux",
        "outputId": "477c8d52-6574-4f99-c231-7d0990172ff0"
      },
      "execution_count": 44,
      "outputs": [
        {
          "output_type": "execute_result",
          "data": {
            "text/plain": [
              "29"
            ]
          },
          "metadata": {},
          "execution_count": 44
        }
      ]
    }
  ]
}