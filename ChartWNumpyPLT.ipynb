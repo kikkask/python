{
  "nbformat": 4,
  "nbformat_minor": 0,
  "metadata": {
    "colab": {
      "provenance": [],
      "authorship_tag": "ABX9TyPEifkLydhDH/jZs93tSquq"
    },
    "kernelspec": {
      "name": "python3",
      "display_name": "Python 3"
    },
    "language_info": {
      "name": "python"
    }
  },
  "cells": [
    {
      "cell_type": "code",
      "execution_count": 2,
      "metadata": {
        "colab": {
          "base_uri": "https://localhost:8080/"
        },
        "id": "hkAMdKwsEJln",
        "outputId": "ca82a878-3841-4bc3-9add-41de550aeb9d"
      },
      "outputs": [
        {
          "output_type": "stream",
          "name": "stdout",
          "text": [
            "Writing dataset.csv\n"
          ]
        }
      ],
      "source": [
        "%%writefile dataset.csv\n",
        "sepal_length,sepal_width,petal_length,petal_width,species\n",
        "5.1,3.5,1.4,0.2,setosa\n",
        "4.9,3.0,1.4,0.2,setosa\n",
        "4.7,3.2,1.3,0.2,setosa\n",
        "4.6,3.1,1.5,0.2,setosa\n",
        "5.0,3.6,1.4,0.2,setosa\n",
        "5.4,3.9,1.7,0.4,setosa\n",
        "4.6,3.4,1.4,0.3,setosa\n",
        "5.0,3.4,1.5,0.2,setosa\n",
        "4.4,2.9,1.4,0.2,setosa"
      ]
    },
    {
      "cell_type": "code",
      "source": [
        "import numpy as np"
      ],
      "metadata": {
        "id": "0VcklZ7uFFOz"
      },
      "execution_count": 3,
      "outputs": []
    },
    {
      "cell_type": "code",
      "source": [
        "arr = np.loadtxt('dataset.csv', delimiter = ',', usecols = (0,1,2,3), skiprows = 1, dtype = float)\n",
        "print(arr)"
      ],
      "metadata": {
        "colab": {
          "base_uri": "https://localhost:8080/"
        },
        "id": "11p6TaDkE9qy",
        "outputId": "8f790174-cf90-46a7-aa57-a37038a1e4c2"
      },
      "execution_count": 5,
      "outputs": [
        {
          "output_type": "stream",
          "name": "stdout",
          "text": [
            "[[5.1 3.5 1.4 0.2]\n",
            " [4.9 3.  1.4 0.2]\n",
            " [4.7 3.2 1.3 0.2]\n",
            " [4.6 3.1 1.5 0.2]\n",
            " [5.  3.6 1.4 0.2]\n",
            " [5.4 3.9 1.7 0.4]\n",
            " [4.6 3.4 1.4 0.3]\n",
            " [5.  3.4 1.5 0.2]\n",
            " [4.4 2.9 1.4 0.2]]\n"
          ]
        }
      ]
    },
    {
      "cell_type": "code",
      "source": [
        "# load in two variables\n",
        "sepal_length, sepal_width = np.loadtxt('dataset.csv', delimiter = ',', usecols = (0,1), skiprows = 1, unpack = True)\n",
        "print(sepal_length)\n",
        "print(sepal_width)"
      ],
      "metadata": {
        "colab": {
          "base_uri": "https://localhost:8080/"
        },
        "id": "o0V6Pzh8F9Me",
        "outputId": "361e1ed3-5149-411c-f6b7-bf97ee706f35"
      },
      "execution_count": 7,
      "outputs": [
        {
          "output_type": "stream",
          "name": "stdout",
          "text": [
            "[5.1 4.9 4.7 4.6 5.  5.4 4.6 5.  4.4]\n",
            "[3.5 3.  3.2 3.1 3.6 3.9 3.4 3.4 2.9]\n"
          ]
        }
      ]
    },
    {
      "cell_type": "code",
      "source": [
        "# plotting the chart with Matplotlib\n",
        "import matplotlib.pyplot as plt\n",
        "plt.show(plt.plot(sepal_length, sepal_width, 'o', markersize = 6, color = 'green'))"
      ],
      "metadata": {
        "colab": {
          "base_uri": "https://localhost:8080/",
          "height": 430
        },
        "id": "FdcFSK8EGd3M",
        "outputId": "06235c68-7e32-4ed5-db5e-015ae53ed06b"
      },
      "execution_count": 8,
      "outputs": [
        {
          "output_type": "display_data",
          "data": {
            "text/plain": [
              "<Figure size 640x480 with 1 Axes>"
            ],
            "image/png": "[encoded data removed]"
          },
          "metadata": {}
        }
      ]
    }
  ]
}