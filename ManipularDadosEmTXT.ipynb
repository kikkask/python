{
  "nbformat": 4,
  "nbformat_minor": 0,
  "metadata": {
    "colab": {
      "provenance": [],
      "authorship_tag": "ABX9TyNF7bKtC/btQnAONhuy/RC5"
    },
    "kernelspec": {
      "name": "python3",
      "display_name": "Python 3"
    },
    "language_info": {
      "name": "python"
    }
  },
  "cells": [
    {
      "cell_type": "code",
      "execution_count": 1,
      "metadata": {
        "colab": {
          "base_uri": "https://localhost:8080/"
        },
        "id": "OEdm1Jgg-u1N",
        "outputId": "85ca048b-9ec2-4aef-ce3c-03464f0d5155"
      },
      "outputs": [
        {
          "output_type": "stream",
          "name": "stdout",
          "text": [
            "Writing nubank.txt\n"
          ]
        }
      ],
      "source": [
        "%%writefile nubank.txt\n",
        "Como você prefere falar com a gente?\n",
        "\n",
        "E-mail\n",
        "Tem alguma dúvida? Podemos te ajudar pelo nosso canal de email.\n",
        "meajuda@nubank.com.br\n",
        "\n",
        "Telefone\n",
        "Você pode ligar para o 0800 do Nubank a qualquer hora através do número abaixo.\n",
        "0800 608 6236\n",
        "\n",
        "Chat\n",
        "Precisa de uma ajuda agora? Entre em contato com nosso atendimento através do chat.\n",
        "Basta abrir o chat no app.\n",
        "\n",
        "Siga o @Nubank\n",
        "Saiba das novidades e receba dicas na nossas redes sociais e também na NuCommunity, a comunidade online oficial do Nubank.\n",
        "\n",
        "Imprensa\n",
        "Reunimos todas as informações para você aqui.\n",
        "press@nu.bank\n",
        "\n",
        "Ouvidoria\n",
        "Já conversou conosco e mesmo assim não\n",
        "conseguiu resolver o que precisava? Nossa\n",
        "Ouvidoria pode avaliar seu caso.\n",
        "0800 887 0463\n",
        "ouvidoria@nubank.com.br\n",
        "\n",
        "Atendemos em dias úteis das 9h às 18h\n",
        "(horário de São Paulo/SP).\n",
        "\n",
        "Parcerias\n",
        "Se você tem uma proposta de patrocínio, parceria\n",
        "ou publicidade, fale conosco por aqui: marketing@nubank.com.br"
      ]
    },
    {
      "cell_type": "code",
      "source": [
        "# Extrair os emails do texto usando o Regex\n",
        "import re\n",
        "\n",
        "with open(file='./nubank.txt', mode='r', encoding='utf8') as arq:\n",
        "  texto = arq.read()\n",
        "\n",
        "emails = re.findall('\\S+@\\S+', texto)\n",
        "print(emails)"
      ],
      "metadata": {
        "colab": {
          "base_uri": "https://localhost:8080/"
        },
        "id": "w6rusFxa-2pR",
        "outputId": "7bafe85e-edef-4060-a7ce-578ad6219029"
      },
      "execution_count": 2,
      "outputs": [
        {
          "output_type": "stream",
          "name": "stdout",
          "text": [
            "['meajuda@nubank.com.br', 'press@nu.bank', 'ouvidoria@nubank.com.br', 'marketing@nubank.com.br']\n"
          ]
        }
      ]
    },
    {
      "cell_type": "code",
      "source": [
        "# Salvar os emails em um arquivo CSV\n",
        "import csv\n",
        "\n",
        "with open(file='./nubank.csv', mode='w', encoding='utf8') as arquivo:\n",
        "  escritor_csv = csv.writer(arquivo, delimiter=',')\n",
        "  escritor_csv.writerows([['email']] + list(map(lambda email: [email], emails)))"
      ],
      "metadata": {
        "id": "93ap0RtZ_X8a"
      },
      "execution_count": 3,
      "outputs": []
    }
  ]
}