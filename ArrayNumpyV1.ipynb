{
  "nbformat": 4,
  "nbformat_minor": 0,
  "metadata": {
    "colab": {
      "provenance": [],
      "authorship_tag": "ABX9TyMcBr5MiC3DbbEVVuwXlfFb"
    },
    "kernelspec": {
      "name": "python3",
      "display_name": "Python 3"
    },
    "language_info": {
      "name": "python"
    }
  },
  "cells": [
    {
      "cell_type": "code",
      "execution_count": 1,
      "metadata": {
        "id": "Q-4QhDFsANHL"
      },
      "outputs": [],
      "source": [
        "import numpy as np"
      ]
    },
    {
      "cell_type": "code",
      "source": [
        "# creating the base lists\n",
        "mut3 = [0,3,6,9]\n",
        "mut4 = [0,4,8,12]\n",
        "\n",
        "# manipulating the lists and create an array numpy of 4 dimensions with funcions\n",
        "arr_4d = np.array([\n",
        "    [\n",
        "        [list((map(lambda n: n * 1, mut3)))],\n",
        "        [list((map(lambda n: n * 2, mut3)))],\n",
        "        [list((map(lambda n: n * 3, mut3)))],\n",
        "        [list((map(lambda n: n * 4, mut3)))]\n",
        "    ],\n",
        "    [\n",
        "        [list((map(lambda n: n * 1, mut4)))],\n",
        "        [list((map(lambda n: n * 2, mut4)))],\n",
        "        [list((map(lambda n: n * 3, mut4)))],\n",
        "        [list((map(lambda n: n * 4, mut4)))]\n",
        "    ]\n",
        "])"
      ],
      "metadata": {
        "id": "xTxZKd8WvLY8"
      },
      "execution_count": 32,
      "outputs": []
    },
    {
      "cell_type": "code",
      "source": [
        "arr_4d.shape"
      ],
      "metadata": {
        "colab": {
          "base_uri": "https://localhost:8080/"
        },
        "id": "wDCzZN_yzhaU",
        "outputId": "111e382a-d0f1-4a49-df6c-f447f2af209d"
      },
      "execution_count": 30,
      "outputs": [
        {
          "output_type": "execute_result",
          "data": {
            "text/plain": [
              "(2, 4, 1, 4)"
            ]
          },
          "metadata": {},
          "execution_count": 30
        }
      ]
    },
    {
      "cell_type": "code",
      "source": [
        "arr_4d.ndim"
      ],
      "metadata": {
        "colab": {
          "base_uri": "https://localhost:8080/"
        },
        "id": "H1j0E4cx17Wj",
        "outputId": "ef6560e9-1f5b-49f3-90c9-fec63e2c71ae"
      },
      "execution_count": 33,
      "outputs": [
        {
          "output_type": "execute_result",
          "data": {
            "text/plain": [
              "4"
            ]
          },
          "metadata": {},
          "execution_count": 33
        }
      ]
    },
    {
      "cell_type": "code",
      "source": [
        "print(arr_4d)"
      ],
      "metadata": {
        "colab": {
          "base_uri": "https://localhost:8080/"
        },
        "id": "H3Qsw53L0Vs8",
        "outputId": "d243af53-7b3e-488e-9cb7-c2fdbda2cfac"
      },
      "execution_count": 31,
      "outputs": [
        {
          "output_type": "stream",
          "name": "stdout",
          "text": [
            "[[[[ 0  3  6  9]]\n",
            "\n",
            "  [[ 0  6 12 18]]\n",
            "\n",
            "  [[ 0  9 18 27]]\n",
            "\n",
            "  [[ 0 12 24 36]]]\n",
            "\n",
            "\n",
            " [[[ 0  4  8 12]]\n",
            "\n",
            "  [[ 0  8 16 24]]\n",
            "\n",
            "  [[ 0 12 24 36]]\n",
            "\n",
            "  [[ 0 16 32 48]]]]\n"
          ]
        }
      ]
    },
    {
      "cell_type": "code",
      "source": [
        "arr_4d[0,3,0,3] + arr_4d[1,3,0,3]"
      ],
      "metadata": {
        "colab": {
          "base_uri": "https://localhost:8080/"
        },
        "id": "SoOem4YU2Rux",
        "outputId": "57273246-3707-4f1a-9476-fdff2a43b91a"
      },
      "execution_count": 38,
      "outputs": [
        {
          "output_type": "execute_result",
          "data": {
            "text/plain": [
              "84"
            ]
          },
          "metadata": {},
          "execution_count": 38
        }
      ]
    }
  ]
}