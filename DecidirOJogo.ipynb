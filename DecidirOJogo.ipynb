{
  "nbformat": 4,
  "nbformat_minor": 0,
  "metadata": {
    "colab": {
      "provenance": [],
      "authorship_tag": "ABX9TyOdVeiQbOAvRWDqUlE05yjI"
    },
    "kernelspec": {
      "name": "python3",
      "display_name": "Python 3"
    },
    "language_info": {
      "name": "python"
    }
  },
  "cells": [
    {
      "cell_type": "markdown",
      "source": [
        "# **Programa para decidir o jogo que eu, Lucas, irei jogar agora.**"
      ],
      "metadata": {
        "id": "QpXOqdZbmRej"
      }
    },
    {
      "cell_type": "code",
      "execution_count": null,
      "metadata": {
        "id": "Dp7QTaynirRv"
      },
      "outputs": [],
      "source": [
        "# Programa para decidir que jogo irei jogar\n",
        "\n",
        "print('**************** Qual jogo eu irei jogar ****************')\n",
        "\n",
        "# Realizando a entrevista\n",
        "print('Responda as seguintes perguntas com verdadeiro (V) ou falso (F).')\n",
        "tempo = input('Você tem mais de 30 minutos para jogar?(V/F) ')\n",
        "esporte = input('Você está se sentindo esportivo hoje?(V/F) ')\n",
        "stress = input('Você está querendo descarregar o stress?(V/F) ')\n",
        "\n",
        "# Levantando os dados e fazendo a análise para decidir o jogo\n",
        "if tempo == \"V\" and esporte == \"V\" and stress == \"F\":\n",
        "  print('Jogue FIFA 23!')\n",
        "\n",
        "elif tempo == \"F\" and esporte == \"V\" and stress == \"F\":\n",
        "  print('Jogue eFootball')\n",
        "\n",
        "elif tempo == \"V\" and esporte == \"F\":\n",
        "  print('Jogue GTA V')\n",
        "\n",
        "elif tempo == \"V\" and esporte == \"V\" and stress == \"V\":\n",
        "  print('Não jogue nada, só vai te estressar mais, melhor assistir um jogo de futebol')\n",
        "\n",
        "else:\n",
        "  print('Melhor não jogar nada agora, leia um livro ou tome uma ducha para relachar')"
      ]
    }
  ]
}