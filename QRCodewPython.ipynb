{
  "nbformat": 4,
  "nbformat_minor": 0,
  "metadata": {
    "colab": {
      "provenance": []
    },
    "kernelspec": {
      "name": "python3",
      "display_name": "Python 3"
    },
    "language_info": {
      "name": "python"
    }
  },
  "cells": [
    {
      "cell_type": "markdown",
      "source": [
        "Encoding and decoding QRCode with Python, por Lucas Brito"
      ],
      "metadata": {
        "id": "bx6k1xrHXoYR"
      }
    },
    {
      "cell_type": "code",
      "source": [
        "pip install qrcode"
      ],
      "metadata": {
        "colab": {
          "base_uri": "https://localhost:8080/"
        },
        "id": "bXnfvO-DYVXw",
        "outputId": "84c070de-3ac8-4dc0-a0ae-6a5b4c615c23"
      },
      "execution_count": 9,
      "outputs": [
        {
          "output_type": "stream",
          "name": "stdout",
          "text": [
            "Looking in indexes: https://pypi.org/simple, https://us-python.pkg.dev/colab-wheels/public/simple/\n",
            "Collecting qrcode\n",
            "  Downloading qrcode-7.3.1.tar.gz (43 kB)\n",
            "\u001b[K     |████████████████████████████████| 43 kB 1.8 MB/s \n",
            "\u001b[?25hBuilding wheels for collected packages: qrcode\n",
            "  Building wheel for qrcode (setup.py) ... \u001b[?25l\u001b[?25hdone\n",
            "  Created wheel for qrcode: filename=qrcode-7.3.1-py3-none-any.whl size=40403 sha256=8e7d221e16c608bd9e20309c09e77c587cbb084ce88662c33bafae73221d8cbd\n",
            "  Stored in directory: /root/.cache/pip/wheels/93/d7/39/a4111be2cfb8e679938aa671a37888b6afb1f9e7d748e94492\n",
            "Successfully built qrcode\n",
            "Installing collected packages: qrcode\n",
            "Successfully installed qrcode-7.3.1\n"
          ]
        }
      ]
    },
    {
      "cell_type": "code",
      "source": [
        "import qrcode"
      ],
      "metadata": {
        "id": "LYE4Lb83YmWg"
      },
      "execution_count": 10,
      "outputs": []
    },
    {
      "cell_type": "code",
      "source": [
        "data = 'Canadá classificou para a Copa do Mundo'\n",
        "\n",
        "qr = qrcode.QRCode(version = 1, box_size = 10, border = 5)\n",
        "\n",
        "qr.add_data(data)\n",
        "\n",
        "qr.make(fit = True)\n",
        "img = qr.make_image(fill_color = 'red', back_color = 'white')\n",
        "\n",
        "img.save('/content/qr_code/myqrcode1.png')"
      ],
      "metadata": {
        "id": "pM6YvDXyZfw3"
      },
      "execution_count": 12,
      "outputs": []
    },
    {
      "cell_type": "markdown",
      "source": [
        "/content/qr_code/myqrcode1.png"
      ],
      "metadata": {
        "id": "APohc1_1aXte"
      }
    },
    {
      "cell_type": "code",
      "source": [
        "pip install pyqrcode"
      ],
      "metadata": {
        "id": "Y4sVQ-7RhHct",
        "outputId": "bfd07677-6cde-4113-f0e0-7882760c9634",
        "colab": {
          "base_uri": "https://localhost:8080/"
        }
      },
      "execution_count": 43,
      "outputs": [
        {
          "output_type": "stream",
          "name": "stdout",
          "text": [
            "Looking in indexes: https://pypi.org/simple, https://us-python.pkg.dev/colab-wheels/public/simple/\n",
            "Collecting pyqrcode\n",
            "  Downloading PyQRCode-1.2.1.zip (41 kB)\n",
            "\u001b[K     |████████████████████████████████| 41 kB 714 kB/s \n",
            "\u001b[?25hBuilding wheels for collected packages: pyqrcode\n",
            "  Building wheel for pyqrcode (setup.py) ... \u001b[?25l\u001b[?25hdone\n",
            "  Created wheel for pyqrcode: filename=PyQRCode-1.2.1-py3-none-any.whl size=36246 sha256=9a469d8a08d4192bf0edf7c48de112beca0907ffbdb3d8126cdd04b67a506a69\n",
            "  Stored in directory: /root/.cache/pip/wheels/aa/14/ad/f09824edf35fdc5fd8acc01b60ff57f858f212a2d5c41dddd2\n",
            "Successfully built pyqrcode\n",
            "Installing collected packages: pyqrcode\n",
            "Successfully installed pyqrcode-1.2.1\n"
          ]
        }
      ]
    },
    {
      "cell_type": "code",
      "source": [
        "pip install pyzbar"
      ],
      "metadata": {
        "id": "G36g47p0hSkN",
        "outputId": "0f37d61c-0791-4fcc-f9a9-186db8fc23dd",
        "colab": {
          "base_uri": "https://localhost:8080/"
        }
      },
      "execution_count": 44,
      "outputs": [
        {
          "output_type": "stream",
          "name": "stdout",
          "text": [
            "Looking in indexes: https://pypi.org/simple, https://us-python.pkg.dev/colab-wheels/public/simple/\n",
            "Requirement already satisfied: pyzbar in /usr/local/lib/python3.7/dist-packages (0.1.9)\n"
          ]
        }
      ]
    },
    {
      "cell_type": "code",
      "source": [
        "from PIL import Image\n",
        "from pyzbar.pyzbar import decode\n",
        "data = decode(Image.open('/content/qr_code/myqrcode1.png'))\n",
        "print(data)"
      ],
      "metadata": {
        "id": "ZKK8DuSPhUY0",
        "outputId": "60385ba2-85a1-4bc8-9bbd-874870f22b5c",
        "colab": {
          "base_uri": "https://localhost:8080/"
        }
      },
      "execution_count": 45,
      "outputs": [
        {
          "output_type": "stream",
          "name": "stdout",
          "text": [
            "[Decoded(data=b'Canad\\xef\\xbe\\x83\\xef\\xbd\\xa1 classificou para a Copa do Mundo', type='QRCODE', rect=Rect(left=49, top=49, width=292, height=292), polygon=[Point(x=49, y=49), Point(x=49, y=340), Point(x=341, y=341), Point(x=340, y=49)], quality=1, orientation=None)]\n"
          ]
        }
      ]
    }
  ]
}