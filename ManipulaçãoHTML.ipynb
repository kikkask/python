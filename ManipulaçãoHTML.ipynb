{
  "nbformat": 4,
  "nbformat_minor": 0,
  "metadata": {
    "colab": {
      "provenance": [],
      "authorship_tag": "ABX9TyNNstzHr5knHBcW/FOqEwmZ"
    },
    "kernelspec": {
      "name": "python3",
      "display_name": "Python 3"
    },
    "language_info": {
      "name": "python"
    }
  },
  "cells": [
    {
      "cell_type": "code",
      "source": [
        "%%writefile lotr.html\n",
        "<html>\n",
        "  <head>\n",
        "    <!-- metadata -->\n",
        "  </head>\n",
        "  <body>\n",
        "    <h3>Senhor dos Anéis</h3>\n",
        "    <p>Filmes:</p>\n",
        "    <ol>\n",
        "      <li><b>2001:</b> O Senhor dos Anéis: A Sociedade do Anel</li>\n",
        "      <li><b>2002:</b> O Senhor dos Anéis: As Duas Torres</li>\n",
        "      <li><b>2003:</b> O Senhor dos Anéis: O Retorno do Rei</li>\n",
        "    </ol>\n",
        "  </body>\n",
        "</html>"
      ],
      "metadata": {
        "colab": {
          "base_uri": "https://localhost:8080/"
        },
        "id": "Eh7gqadlKauQ",
        "outputId": "dcda3a6b-2fc0-4146-9538-72017cc73914"
      },
      "execution_count": 1,
      "outputs": [
        {
          "output_type": "stream",
          "name": "stdout",
          "text": [
            "Writing lotr.html\n"
          ]
        }
      ]
    },
    {
      "cell_type": "code",
      "source": [
        "# Extrair os filmes e anos do arquivo lotr.html em um dicionário\n",
        "\n",
        "from bs4 import BeautifulSoup\n",
        "\n",
        "pagina = BeautifulSoup(open('lotr.html', mode='r'), 'html.parser')\n",
        "\n",
        "filmes_li = pagina.find_all('li')\n",
        "print(filmes_li)\n",
        "\n",
        "filmes = []\n",
        "\n",
        "for filme_li in filmes_li:\n",
        "  filme = filme_li.get_text()\n",
        "  ano = int(filme.split(sep=':')[0].strip())\n",
        "  titulo = ':'.join(filme.split(sep=':')[1:]).strip()\n",
        "  filmes.append({'ano': ano, 'titulo': titulo})\n",
        "\n",
        "for filme in filmes:\n",
        "  print(filme)"
      ],
      "metadata": {
        "colab": {
          "base_uri": "https://localhost:8080/"
        },
        "id": "cn7uwqfIbsN0",
        "outputId": "d419d4d5-752a-4c08-81e1-367ceec8f09e"
      },
      "execution_count": 4,
      "outputs": [
        {
          "output_type": "stream",
          "name": "stdout",
          "text": [
            "[<li><b>2001:</b> O Senhor dos Anéis: A Sociedade do Anel</li>, <li><b>2002:</b> O Senhor dos Anéis: As Duas Torres</li>, <li><b>2003:</b> O Senhor dos Anéis: O Retorno do Rei</li>]\n",
            "{'ano': 2001, 'titulo': 'O Senhor dos Anéis: A Sociedade do Anel'}\n",
            "{'ano': 2002, 'titulo': 'O Senhor dos Anéis: As Duas Torres'}\n",
            "{'ano': 2003, 'titulo': 'O Senhor dos Anéis: O Retorno do Rei'}\n"
          ]
        }
      ]
    }
  ]
}